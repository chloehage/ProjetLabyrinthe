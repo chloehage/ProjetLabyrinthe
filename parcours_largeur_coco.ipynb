{
 "cells": [
  {
   "cell_type": "code",
   "execution_count": null,
   "metadata": {},
   "outputs": [],
   "source": [
    "class File:\n",
    "    \"\"\" Classe File\n",
    "        Création d’une instance File avec une liste\n",
    "    \"\"\"\n",
    "    \n",
    "    def __init__(self):\n",
    "        self.L = []\n",
    "        \n",
    "    def vide(self):\n",
    "        return self.L == []\n",
    "    \n",
    "    def defiler(self):\n",
    "        assert not self.vide(), \"file vide\"\n",
    "        return self.L.pop(0)\n",
    "    \n",
    "    def enfiler(self,x):\n",
    "        self.L.append(x)\n",
    "        \n",
    "    def taille(self):\n",
    "        return len(self.L)\n",
    "    \n",
    "    def sommet(self):\n",
    "        return self.L[0]\n",
    "    \n",
    "    def present(self,x):\n",
    "        return x in self.L"
   ]
  },
  {
   "cell_type": "code",
   "execution_count": null,
   "metadata": {},
   "outputs": [],
   "source": [
    "#!/usr/bin/env python3\n",
    "# -*- coding: utf-8 -*-\n",
    "\n",
    "#importation des bibliothèques\n",
    "import networkx as nx\n",
    "\n",
    "def chercher_bfs(laby:nx.Graph, source:int = None, destination:int = None)->list:\n",
    "    \"\"\" Cherche le chemin le plus court entre les sommets source et destination\n",
    "        selon le parcours en largeur.\n",
    "    \"\"\"\n",
    "    # Initialisation des sommets source et destination s'ils ne sont pas renseignés\n",
    "    # Récupère la liste des sommets\n",
    "    nodes = list(laby.nodes())\n",
    "    # Si source n'est pas renseigné, alors on impose source = 0\n",
    "    if source == None:\n",
    "        source = nodes[0]\n",
    "    # Si destination n'est pas renseigné, alors on impose destination = dernier sommet\n",
    "    if destination == None:   \n",
    "        destination = nodes[-1]\n",
    "\n",
    "    sommet_visite = []\n",
    "    f = File()\n",
    "    f.enfiler(source)\n",
    "    while not f.vide():\n",
    "        tmp = f.defiler()\n",
    "        print(tmp,end = \" \")\n",
    "        if tmp not in sommet_visite:\n",
    "            sommet_visite.append(tmp)\n",
    "        for voisin in laby.neighbors(tmp):\n",
    "            if voisin not in sommet_visite and not f.present(tmp):\n",
    "                f.enfiler(voisin)\n",
    "                \n",
    "    return sommet_visite\n",
    "\n",
    "      \n",
    "        \n",
    "    #return nx.shortest_path(laby, source, destination)\n",
    "\n",
    "if __name__ == \"__main__\":\n",
    "    # Création du labyrinthe de test\n",
    "    aretes = [(0, 1), (0, 4), (1, 0), (1, 5), (2, 6), (3, 7), (4, 0), (4, 5), (5, 1) , \\\n",
    "     (5, 4), (5, 6), (5, 9), (6, 2), (6, 5), (6, 7), (6, 10), (7, 3), (7, 6), (8, 9),\\\n",
    "     (9, 5), (9, 8), (9, 10), (10, 6), (10, 9), (10, 11), (11, 10)]\n",
    "    colonnes = 4\n",
    "    lignes = 3\n",
    "    nb_sommets = colonnes * lignes\n",
    "    noeuds = list(range(nb_sommets))\n",
    "    Labyrinthe = nx.Graph()\n",
    "    Labyrinthe.add_nodes_from(noeuds)\n",
    "    Labyrinthe.add_edges_from(aretes)\n",
    "\n",
    "    # Lance le test de la fonction afficher_labyrinthe()\n",
    "    #afficher_labyrinthe(Labyrinthe, colonnes, lignes)\n",
    "    chemin_bfs =chercher_bfs(Labyrinthe, 0, 5)\n",
    "    print(chemin_bfs)"
   ]
  }
 ],
 "metadata": {
  "kernelspec": {
   "display_name": "Python 3.10.2 64-bit",
   "language": "python",
   "name": "python3"
  },
  "language_info": {
   "codemirror_mode": {
    "name": "ipython",
    "version": 3
   },
   "file_extension": ".py",
   "mimetype": "text/x-python",
   "name": "python",
   "nbconvert_exporter": "python",
   "pygments_lexer": "ipython3",
   "version": "3.10.2"
  },
  "orig_nbformat": 4,
  "vscode": {
   "interpreter": {
    "hash": "aee8b7b246df8f9039afb4144a1f6fd8d2ca17a180786b69acc140d282b71a49"
   }
  }
 },
 "nbformat": 4,
 "nbformat_minor": 2
}
